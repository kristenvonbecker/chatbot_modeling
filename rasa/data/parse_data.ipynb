{
 "cells": [
  {
   "cell_type": "code",
   "execution_count": 53,
   "metadata": {
    "collapsed": true
   },
   "outputs": [],
   "source": [
    "import os\n",
    "import io\n",
    "import json\n",
    "import re\n",
    "\n",
    "import ruamel.yaml\n",
    "yaml = ruamel.yaml.YAML()\n",
    "\n",
    "from dotenv import load_dotenv\n",
    "load_dotenv();"
   ]
  },
  {
   "cell_type": "code",
   "execution_count": 54,
   "outputs": [],
   "source": [
    "home = os.getenv(\"PROJ_HOME\")\n",
    "adv_data_filepath = os.path.join(home, \"explorer_ai/data/adv_data.json\")"
   ],
   "metadata": {
    "collapsed": false
   }
  },
  {
   "cell_type": "code",
   "execution_count": 55,
   "outputs": [],
   "source": [
    "# write list of unique subjects to a txt file for lookup\n",
    "\n",
    "with open(adv_data_filepath, \"r\") as json_file:\n",
    "    data = json.load(json_file)\n",
    "\n",
    "subject_list = []\n",
    "\n",
    "for item in data:\n",
    "    subject_list.append(item.get(\"title\"))\n",
    "    subject_list += item.get(\"alt_titles\")\n",
    "\n",
    "subject_list = list(set(subject_list))\n",
    "\n",
    "filename_out = os.path.join(home, \"explorer_ai/rasa/data/nlu/lookups/subjects.txt\")\n",
    "\n",
    "with open(filename_out, \"w\") as txt_file:\n",
    "    for item in subject_list:\n",
    "        txt_file.write(f\"{item}\\n\")"
   ],
   "metadata": {
    "collapsed": false
   }
  },
  {
   "cell_type": "code",
   "execution_count": 57,
   "outputs": [],
   "source": [
    "# generate annotated ask_for_explanation intents from items in subject_list\n",
    "\n",
    "fixed_intents_file = os.path.join(home, \"explorer_ai/rasa/data/nlu/intents.yml\")\n",
    "intent_templates_file = os.path.join(home, \"explorer_ai/rasa/data/nlu/intents/ask_for_explanation/templates.txt\")\n",
    "\n",
    "with open(fixed_intents_file, \"r\") as stream:\n",
    "    all_intents = yaml.load(stream)\n",
    "\n",
    "# this method assumes no pipe symbols in the training data\n",
    "fixed_intents = []\n",
    "for item in all_intents[\"nlu\"]:\n",
    "    if item[\"intent\"] == \"ask_for_explanation\":\n",
    "        fixed_intents += item[\"examples\"]\n",
    "\n",
    "intent_templates = []\n",
    "with open(intent_templates_file, \"r\") as file:\n",
    "    for line in file:\n",
    "        intent_templates.append(line.strip(\"\\n\"))"
   ],
   "metadata": {
    "collapsed": false
   }
  },
  {
   "cell_type": "code",
   "execution_count": 58,
   "outputs": [],
   "source": [
    "# merge subject list and intent templates to form list of annotated ask_for_explanation intent exampes\n",
    "\n",
    "pattern = \"(\\[.*?\\])\"\n",
    "\n",
    "num_templates = len(intent_templates)\n",
    "\n",
    "def fill_template(filler, n):\n",
    "    template = intent_templates[n % num_templates]\n",
    "    ann_subject = \"[\" + filler + \"]\"\n",
    "    match = re.search(pattern, template)\n",
    "    filled = template.replace(match.group(0), ann_subject)\n",
    "    return filled\n",
    "\n",
    "intent_examples = fixed_intents\n",
    "i = 0\n",
    "for subject in subject_list:\n",
    "    intent = fill_template(subject, i)\n",
    "    intent_examples.append(intent)\n",
    "    i += 1"
   ],
   "metadata": {
    "collapsed": false
   }
  },
  {
   "cell_type": "code",
   "execution_count": 59,
   "outputs": [],
   "source": [
    "# write ask_for_explanation intent examples to a txt file\n",
    "\n",
    "intents_txt = os.path.join(home, \"explorer_ai/rasa/data/nlu/intents/ask_for_explanation/examples.txt\")\n",
    "\n",
    "with open(intents_txt, \"w\") as txt_file:\n",
    "    for item in intent_examples:\n",
    "        txt_file.write(f\"{item}\\n\")"
   ],
   "metadata": {
    "collapsed": false
   }
  },
  {
   "cell_type": "code",
   "execution_count": 60,
   "outputs": [],
   "source": [
    "# generate yaml file for intent ask_for_explanation\n",
    "\n",
    "intent_dict = {\n",
    "    \"version\": \"3.1\",\n",
    "    \"nlu\": [\n",
    "        {\n",
    "            \"intent\": \"ask_for_explanation\",\n",
    "            \"examples\": intent_examples\n",
    "        }\n",
    "    ]\n",
    "}\n",
    "\n",
    "def literalize_list(v):\n",
    "    assert isinstance(v, list)\n",
    "    buf = io.StringIO()\n",
    "    yaml.dump(v, buf)\n",
    "    return ruamel.yaml.scalarstring.LiteralScalarString(buf.getvalue())\n",
    "\n",
    "def transform_value(d, key, transformation):\n",
    "    if isinstance(d, dict):\n",
    "        for k, v in d.items():\n",
    "            if k == key:\n",
    "                d[k] = transformation(v)\n",
    "            else:\n",
    "                transform_value(v, key, transformation)\n",
    "    elif isinstance(d, list):\n",
    "        for elem in d:\n",
    "            transform_value(elem, key, transformation)\n",
    "\n",
    "transform_value(intent_dict, 'examples', literalize_list)\n",
    "\n",
    "yaml_file = os.path.join(home, \"explorer_ai/rasa/data/nlu/intent_ask_for_explanation.yml\")\n",
    "\n",
    "with open(yaml_file, \"w\") as file:\n",
    "    yaml.dump(intent_dict, file)"
   ],
   "metadata": {
    "collapsed": false
   }
  }
 ],
 "metadata": {
  "kernelspec": {
   "display_name": "Python 3",
   "language": "python",
   "name": "python3"
  },
  "language_info": {
   "codemirror_mode": {
    "name": "ipython",
    "version": 2
   },
   "file_extension": ".py",
   "mimetype": "text/x-python",
   "name": "python",
   "nbconvert_exporter": "python",
   "pygments_lexer": "ipython2",
   "version": "2.7.6"
  }
 },
 "nbformat": 4,
 "nbformat_minor": 0
}
